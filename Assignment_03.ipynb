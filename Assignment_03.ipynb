{
  "nbformat": 4,
  "nbformat_minor": 0,
  "metadata": {
    "colab": {
      "provenance": []
    },
    "kernelspec": {
      "name": "python3",
      "display_name": "Python 3"
    },
    "language_info": {
      "name": "python"
    }
  },
  "cells": [
    {
      "cell_type": "code",
      "execution_count": 12,
      "metadata": {
        "id": "F7JEIzE1mBZH"
      },
      "outputs": [],
      "source": [
        "# 17-04-2024\n",
        "# CSC461 – Assignment3 – IDS – Graph Analysis\n",
        "# Hamna Shahbaz\n",
        "# FA21-BSE-048\n",
        "# Plotting graphs using networkx library and identifying loops and shortet paths\n",
        "# I couldn't get the second graph to display a weighted graph so it just outputs the same graph as first one\n",
        "import numpy as np\n",
        "import networkx as nx\n",
        "import matplotlib.pyplot as plt\n",
        "import random"
      ]
    },
    {
      "cell_type": "code",
      "source": [
        "#Question 01\n",
        "\n",
        "matrix = [\n",
        "    [0, 0, 1, 0, 1, 0, 1],\n",
        "    [0, 1, 0, 0, 0, 1, 0],\n",
        "    [1, 0, 0, 0, 0, 1, 1],\n",
        "    [0, 0, 0, 0, 1, 0, 0],\n",
        "    [1, 0, 0, 1, 0, 0, 0],\n",
        "    [0, 1, 1, 0, 0, 0, 1],\n",
        "    [1, 0, 1, 0, 0, 1, 0]\n",
        "]\n",
        "\n",
        "G = nx.Graph()\n",
        "\n",
        "num_nodes = len(matrix)\n",
        "nodes = ('a', 'b', 'c', 'd', 'e', 'f', 'g')\n",
        "G.add_nodes_from(nodes)\n",
        "self_loops = []\n",
        "\n",
        "for i in range(num_nodes):\n",
        "    for j in range(num_nodes):\n",
        "        if matrix[i][j] == 1:\n",
        "            G.add_edge(nodes[i], nodes[j])\n",
        "\n",
        "nx.draw(G, with_labels=True)\n",
        "\n",
        "if nx.cycle_basis(G):\n",
        "    print(\"The cycle(s) in the graph:\", nx.cycle_basis(G))\n",
        "else:\n",
        "    print(\"There is no loop in the graph.\")\n"
      ],
      "metadata": {
        "id": "ZoBSLVYCUn4M"
      },
      "execution_count": null,
      "outputs": []
    },
    {
      "cell_type": "code",
      "source": [
        "#Question 02\n",
        "# Add weights on the graph and apply Dijkstra to find the shortest path  between A and B\n",
        "\n",
        "matrix = [\n",
        "    [0, 0, 1, 0, 1, 0, 1],\n",
        "    [0, 1, 0, 0, 0, 1, 0],\n",
        "    [1, 0, 0, 0, 0, 1, 1],\n",
        "    [0, 0, 0, 0, 1, 0, 0],\n",
        "    [1, 0, 0, 1, 0, 0, 0],\n",
        "    [0, 1, 1, 0, 0, 0, 1],\n",
        "    [1, 0, 1, 0, 0, 1, 0]\n",
        "]\n",
        "\n",
        "G = nx.Graph()\n",
        "\n",
        "num_nodes = len(matrix)\n",
        "nodes = ('a', 'b', 'c', 'd', 'e', 'f', 'g')\n",
        "G.add_nodes_from(nodes)\n",
        "self_loops = []\n",
        "\n",
        "for i in range(num_nodes):\n",
        "    for j in range(num_nodes):\n",
        "        if matrix[i][j] == 1:\n",
        "            num = random.randint(2, 10)\n",
        "            G.add_edge(nodes[i], nodes[j], weight=num)\n",
        "\n",
        "nx.draw(G, with_labels = True)\n",
        "\n",
        "shortest_path = nx.dijkstra_path(G, source='a', target='b')\n",
        "shortest_path_length = nx.dijkstra_path_length(G, source='a', target='b')\n",
        "\n",
        "print(\"Shortest path:\", shortest_path)\n",
        "print(\"Length of the shortest path:\", shortest_path_length)"
      ],
      "metadata": {
        "id": "j2GaKYjpaAWP"
      },
      "execution_count": null,
      "outputs": []
    }
  ]
}