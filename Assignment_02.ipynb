{
  "cells": [
    {
      "cell_type": "code",
      "execution_count": null,
      "metadata": {
        "id": "LBIsb2p2XnkQ"
      },
      "outputs": [],
      "source": [
        "# 11th March 2024\n",
        "# CSC461 – Assignment2 – IDS – DataVisualization\n",
        "# Hamna Shahbaz\n",
        "# CIIT/LHR/FA21-BSE-048\n",
        "# Web-Scraping and Parsing using requests and BeautifulSoup libraries, respectively"
      ]
    },
    {
      "cell_type": "code",
      "execution_count": null,
      "metadata": {
        "id": "IiSUnlkOYeYY"
      },
      "outputs": [],
      "source": [
        "#Question 01\n",
        "import pandas as pd\n",
        "import matplotlib.pyplot as plt\n",
        "\n",
        "df = pd.read_csv('/world_pop.csv')\n",
        "#print(dataset)\n",
        "#Find the top 10 countries with highest population in  2020\n",
        "df_2020 = df[['country', 'year_2020']]\n",
        "\n",
        "# Drop rows with missing values in the 'year_2020' column\n",
        "df_2020.dropna(subset=['year_2020'], inplace=True)\n",
        "\n",
        "# Sort the DataFrame by population in descending order\n",
        "df_2020_sorted = df_2020.sort_values(by='year_2020', ascending=False)\n",
        "\n",
        "# Select the top 10 countries with the highest population in 2020\n",
        "top_10_countries = df_2020_sorted.head(10)\n",
        "\n",
        "# Display the result\n",
        "print(top_10_countries)\n",
        "\n",
        "# Select the top 10 countries with the highest population in 2020\n",
        "top_10_countries = df[['country', 'year_1960', 'year_1961', 'year_1962', 'year_1963', 'year_1964', 'year_1965', 'year_1966', 'year_1967', 'year_1968', 'year_1969', 'year_1970', 'year_1971', 'year_1972', 'year_1973', 'year_1974', 'year_1975', 'year_1976', 'year_1977', 'year_1978', 'year_1979', 'year_1980', 'year_1981', 'year_1982', 'year_1983', 'year_1984', 'year_1985', 'year_1986', 'year_1987', 'year_1988', 'year_1989', 'year_1990', 'year_1991', 'year_1992', 'year_1993', 'year_1994', 'year_1995', 'year_1996', 'year_1997', 'year_1998', 'year_1999', 'year_2000', 'year_2001', 'year_2002', 'year_2003', 'year_2004', 'year_2005', 'year_2006', 'year_2007', 'year_2008', 'year_2009', 'year_2010', 'year_2011', 'year_2012', 'year_2013', 'year_2014', 'year_2015', 'year_2016', 'year_2017', 'year_2018', 'year_2019', 'year_2020']]\n",
        "top_10_countries.set_index('country', inplace=True)\n",
        "\n",
        "# Transpose the DataFrame to have years as rows and countries as columns\n",
        "top_10_countries = top_10_countries.transpose()\n",
        "\n",
        "# Plot the line chart\n",
        "# Plot the line chart\n",
        "fig, ax = plt.subplots(figsize=(12, 8))\n",
        "\n",
        "# Select the top 10 countries\n",
        "top_10_countries_to_plot = top_10_countries.iloc[:, :10]\n",
        "\n",
        "for country in top_10_countries_to_plot.columns:\n",
        "    ax.plot(top_10_countries_to_plot.index, top_10_countries_to_plot[country], label=country)\n",
        "\n",
        "plt.title('Population Growth of Top 10 Countries (1960-2020)')\n",
        "plt.xlabel('Year')\n",
        "plt.ylabel('Population')\n",
        "plt.legend(loc='upper left')\n",
        "plt.grid(True)\n",
        "plt.tight_layout()\n",
        "plt.show()"
      ]
    },
    {
      "cell_type": "code",
      "execution_count": null,
      "metadata": {},
      "outputs": [],
      "source": [
        "#Question 02\n",
        "#Find the least popoulous coutnries in 2015\n",
        "df_2020 = df[['country', 'year_2015']]\n",
        "\n",
        "# Drop rows with missing values in the 'year_2020' column\n",
        "df_2020.dropna(subset=['year_2015'], inplace=True)\n",
        "\n",
        "# Sort the DataFrame by population in descending order\n",
        "df_2020_sorted = df_2020.sort_values(by='year_2015', ascending=True)\n",
        "\n",
        "# Select the top 10 countries with the highest population in 2020\n",
        "least_10_countries = df_2020_sorted.head(10)\n",
        "print(least_10_countries)\n"
      ]
    }
  ],
  "metadata": {
    "colab": {
      "provenance": []
    },
    "kernelspec": {
      "display_name": "Python 3",
      "name": "python3"
    },
    "language_info": {
      "name": "python"
    }
  },
  "nbformat": 4,
  "nbformat_minor": 0
}
